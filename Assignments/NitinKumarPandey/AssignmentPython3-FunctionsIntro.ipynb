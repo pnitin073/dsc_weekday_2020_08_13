{
 "cells": [
  {
   "cell_type": "code",
   "execution_count": 1,
   "metadata": {},
   "outputs": [
    {
     "name": "stdout",
     "output_type": "stream",
     "text": [
      "Enter first string : nitin\n",
      "Enter second string : kumar\n",
      "kumar,nitin,nitin\n"
     ]
    }
   ],
   "source": [
    "#Question 1\n",
    "s1 = input(\"Enter first string : \")\n",
    "s2 = input(\"Enter second string : \")\n",
    "s3 = s1\n",
    "s1 = s2\n",
    "s2 = s3\n",
    "print(s1,s2,s3,sep=',')"
   ]
  },
  {
   "cell_type": "code",
   "execution_count": 5,
   "metadata": {},
   "outputs": [
    {
     "name": "stdout",
     "output_type": "stream",
     "text": [
      "average of random number is \t17.0\n"
     ]
    }
   ],
   "source": [
    "#Question 2\n",
    "import math\n",
    "import random\n",
    "s = random.randint(0,29) + random.randint(0,29) + random.randint(0,29) + random.randint(0,29)\n",
    "avg = s / 4\n",
    "print(\"average of random number is \", avg, sep = '\\t')"
   ]
  },
  {
   "cell_type": "code",
   "execution_count": 18,
   "metadata": {},
   "outputs": [
    {
     "name": "stdout",
     "output_type": "stream",
     "text": [
      "m\n"
     ]
    }
   ],
   "source": [
    "#Question 3\n",
    "s1 = 'abcdefghijklmnopqrstuvwxyz'\n",
    "a = random.randint(0,25)\n",
    "print(s1[a])"
   ]
  },
  {
   "cell_type": "code",
   "execution_count": 26,
   "metadata": {},
   "outputs": [
    {
     "name": "stdout",
     "output_type": "stream",
     "text": [
      "97,122,65,90\n",
      "d,I\n"
     ]
    }
   ],
   "source": [
    "#second approach of upper question\n",
    "print(ord('a'),ord('z'),ord('A'),ord('Z'),sep = ',')\n",
    "a = random.randint(97,122)\n",
    "b = random.randint(65,90)\n",
    "print(chr(a),chr(b),sep = ',')"
   ]
  },
  {
   "cell_type": "code",
   "execution_count": 33,
   "metadata": {},
   "outputs": [
    {
     "name": "stdout",
     "output_type": "stream",
     "text": [
      "please enter the printcipal amount : 1.0\n",
      "Please enter Rate of interest : 1.0\n",
      "please tiem in year : 1.0\n",
      "your simple interest is 0.01\n"
     ]
    }
   ],
   "source": [
    "#Question 4\n",
    "def get_si(p,r = 10.0,t = 1.0):\n",
    "    return ((p*r/100)*t)\n",
    "\n",
    "print(\"your simple interest is\",get_si(float(input(\"please enter the printcipal amount : \")),float(input(\"Please enter Rate of interest : \")),float(input(\"please tiem in year : \"))))"
   ]
  },
  {
   "cell_type": "code",
   "execution_count": 37,
   "metadata": {},
   "outputs": [
    {
     "name": "stdout",
     "output_type": "stream",
     "text": [
      "please enter the printcipal amount : 5\n",
      "Please enter Rate of interest : 5\n",
      "please tiem in year : 5\n",
      "your total amount is 6.25\n",
      "100.0\n"
     ]
    }
   ],
   "source": [
    "#Question 5\n",
    "def get_amount(p,r,t):\n",
    "    si = get_si(p,r,t)\n",
    "    return (p + si)\n",
    "\n",
    "print(\"your total amount is\",get_amount(float(input(\"please enter the printcipal amount : \")),float(input(\"Please enter Rate of interest : \")),float(input(\"please tiem in year : \"))))\n",
    "print(get_si(1000))"
   ]
  },
  {
   "cell_type": "code",
   "execution_count": 2,
   "metadata": {},
   "outputs": [
    {
     "name": "stdout",
     "output_type": "stream",
     "text": [
      "167772160.00000003\n"
     ]
    }
   ],
   "source": [
    "#Question 6\n",
    "def get_ci(p,r,t):\n",
    "    return(p*(1 + r/t)**t)\n",
    "\n",
    "print(get_ci(500000.0,11.0,5.0))"
   ]
  },
  {
   "cell_type": "code",
   "execution_count": 4,
   "metadata": {},
   "outputs": [
    {
     "name": "stdout",
     "output_type": "stream",
     "text": [
      "(5, 0)\n"
     ]
    }
   ],
   "source": [
    "#Question 7\n",
    "def get_q_r(n1,n2):\n",
    "    t = (int(n1 / n2), n1%n2)\n",
    "    return t\n",
    "\n",
    "print(get_q_r(5,1))"
   ]
  },
  {
   "cell_type": "code",
   "execution_count": 15,
   "metadata": {},
   "outputs": [
    {
     "name": "stdout",
     "output_type": "stream",
     "text": [
      "Please enter the base : 5\n",
      "please enter the hight : 5\n",
      "hyper of the triangle is :  7.0710678118654755\n"
     ]
    }
   ],
   "source": [
    "#Question 8\n",
    "import math\n",
    "b = float(input(\"Please enter the base : \"))\n",
    "h = float(input(\"please enter the hight : \"))\n",
    "print(\"hyper of the triangle is : \",math.sqrt(b**2 + h**2))\n"
   ]
  },
  {
   "cell_type": "code",
   "execution_count": 18,
   "metadata": {},
   "outputs": [
    {
     "name": "stdout",
     "output_type": "stream",
     "text": [
      "Enter number of seconds : 846000\n",
      "846000,14100,235,0,0,0,55,0\n"
     ]
    }
   ],
   "source": [
    "#Question 9\n",
    "s = int(input(\"Enter number of seconds : \"))\n",
    "m = int(s / 60)\n",
    "h = int(m / 60)\n",
    "d = int(d / 24)\n",
    "sec = s % 60\n",
    "min = m % 60\n",
    "hour = h % 60\n",
    "day = d\n",
    "print(s,m,h,d,sec,min,hour,day,sep = ',')"
   ]
  },
  {
   "cell_type": "code",
   "execution_count": 20,
   "metadata": {},
   "outputs": [
    {
     "name": "stdout",
     "output_type": "stream",
     "text": [
      "sys.version_info(major=3, minor=7, micro=4, releaselevel='final', serial=0)\n"
     ]
    }
   ],
   "source": [
    "#Question 10\n",
    "import sys\n",
    "print(sys.version_info[0])"
   ]
  },
  {
   "cell_type": "code",
   "execution_count": 21,
   "metadata": {},
   "outputs": [
    {
     "name": "stdout",
     "output_type": "stream",
     "text": [
      "0 0\n"
     ]
    }
   ],
   "source": [
    "#Question 11 Predicted out put 0 0\n",
    "X = 2\n",
    "X *= 3\n",
    "X = X%3\n",
    "Y = -X\n",
    "print(X,Y)"
   ]
  },
  {
   "cell_type": "code",
   "execution_count": 22,
   "metadata": {},
   "outputs": [
    {
     "name": "stdout",
     "output_type": "stream",
     "text": [
      "None\n"
     ]
    }
   ],
   "source": [
    "#Question 12 precicted output None\n",
    "def funct():\n",
    "    pass\n",
    "\n",
    "print(funct())"
   ]
  },
  {
   "cell_type": "code",
   "execution_count": 3,
   "metadata": {},
   "outputs": [
    {
     "ename": "ValueError",
     "evalue": "math domain error",
     "output_type": "error",
     "traceback": [
      "\u001b[1;31m---------------------------------------------------------------------------\u001b[0m",
      "\u001b[1;31mValueError\u001b[0m                                Traceback (most recent call last)",
      "\u001b[1;32m<ipython-input-3-203a6d628698>\u001b[0m in \u001b[0;36m<module>\u001b[1;34m\u001b[0m\n\u001b[0;32m      1\u001b[0m \u001b[1;32mimport\u001b[0m \u001b[0mmath\u001b[0m\u001b[1;33m\u001b[0m\u001b[1;33m\u001b[0m\u001b[0m\n\u001b[1;32m----> 2\u001b[1;33m \u001b[0mprint\u001b[0m\u001b[1;33m(\u001b[0m\u001b[0mmath\u001b[0m\u001b[1;33m.\u001b[0m\u001b[0msqrt\u001b[0m\u001b[1;33m(\u001b[0m\u001b[1;33m-\u001b[0m\u001b[1;36m4\u001b[0m\u001b[1;33m)\u001b[0m\u001b[1;33m)\u001b[0m\u001b[1;33m\u001b[0m\u001b[1;33m\u001b[0m\u001b[0m\n\u001b[0m",
      "\u001b[1;31mValueError\u001b[0m: math domain error"
     ]
    }
   ],
   "source": [
    "import math\n",
    "print(math.sqrt(-4))"
   ]
  },
  {
   "cell_type": "code",
   "execution_count": 4,
   "metadata": {},
   "outputs": [
    {
     "name": "stdout",
     "output_type": "stream",
     "text": [
      "2j\n",
      "<class 'complex'>\n"
     ]
    }
   ],
   "source": [
    "import cmath\n",
    "print(cmath.sqrt(-4))\n",
    "print(type(cmath.sqrt(-4)))"
   ]
  },
  {
   "cell_type": "code",
   "execution_count": 5,
   "metadata": {},
   "outputs": [
    {
     "name": "stdout",
     "output_type": "stream",
     "text": [
      "Help on class complex in module builtins:\n",
      "\n",
      "class complex(object)\n",
      " |  complex(real=0, imag=0)\n",
      " |  \n",
      " |  Create a complex number from a real part and an optional imaginary part.\n",
      " |  \n",
      " |  This is equivalent to (real + imag*1j) where imag defaults to 0.\n",
      " |  \n",
      " |  Methods defined here:\n",
      " |  \n",
      " |  __abs__(self, /)\n",
      " |      abs(self)\n",
      " |  \n",
      " |  __add__(self, value, /)\n",
      " |      Return self+value.\n",
      " |  \n",
      " |  __bool__(self, /)\n",
      " |      self != 0\n",
      " |  \n",
      " |  __divmod__(self, value, /)\n",
      " |      Return divmod(self, value).\n",
      " |  \n",
      " |  __eq__(self, value, /)\n",
      " |      Return self==value.\n",
      " |  \n",
      " |  __float__(self, /)\n",
      " |      float(self)\n",
      " |  \n",
      " |  __floordiv__(self, value, /)\n",
      " |      Return self//value.\n",
      " |  \n",
      " |  __format__(...)\n",
      " |      complex.__format__() -> str\n",
      " |      \n",
      " |      Convert to a string according to format_spec.\n",
      " |  \n",
      " |  __ge__(self, value, /)\n",
      " |      Return self>=value.\n",
      " |  \n",
      " |  __getattribute__(self, name, /)\n",
      " |      Return getattr(self, name).\n",
      " |  \n",
      " |  __getnewargs__(...)\n",
      " |  \n",
      " |  __gt__(self, value, /)\n",
      " |      Return self>value.\n",
      " |  \n",
      " |  __hash__(self, /)\n",
      " |      Return hash(self).\n",
      " |  \n",
      " |  __int__(self, /)\n",
      " |      int(self)\n",
      " |  \n",
      " |  __le__(self, value, /)\n",
      " |      Return self<=value.\n",
      " |  \n",
      " |  __lt__(self, value, /)\n",
      " |      Return self<value.\n",
      " |  \n",
      " |  __mod__(self, value, /)\n",
      " |      Return self%value.\n",
      " |  \n",
      " |  __mul__(self, value, /)\n",
      " |      Return self*value.\n",
      " |  \n",
      " |  __ne__(self, value, /)\n",
      " |      Return self!=value.\n",
      " |  \n",
      " |  __neg__(self, /)\n",
      " |      -self\n",
      " |  \n",
      " |  __pos__(self, /)\n",
      " |      +self\n",
      " |  \n",
      " |  __pow__(self, value, mod=None, /)\n",
      " |      Return pow(self, value, mod).\n",
      " |  \n",
      " |  __radd__(self, value, /)\n",
      " |      Return value+self.\n",
      " |  \n",
      " |  __rdivmod__(self, value, /)\n",
      " |      Return divmod(value, self).\n",
      " |  \n",
      " |  __repr__(self, /)\n",
      " |      Return repr(self).\n",
      " |  \n",
      " |  __rfloordiv__(self, value, /)\n",
      " |      Return value//self.\n",
      " |  \n",
      " |  __rmod__(self, value, /)\n",
      " |      Return value%self.\n",
      " |  \n",
      " |  __rmul__(self, value, /)\n",
      " |      Return value*self.\n",
      " |  \n",
      " |  __rpow__(self, value, mod=None, /)\n",
      " |      Return pow(value, self, mod).\n",
      " |  \n",
      " |  __rsub__(self, value, /)\n",
      " |      Return value-self.\n",
      " |  \n",
      " |  __rtruediv__(self, value, /)\n",
      " |      Return value/self.\n",
      " |  \n",
      " |  __str__(self, /)\n",
      " |      Return str(self).\n",
      " |  \n",
      " |  __sub__(self, value, /)\n",
      " |      Return self-value.\n",
      " |  \n",
      " |  __truediv__(self, value, /)\n",
      " |      Return self/value.\n",
      " |  \n",
      " |  conjugate(...)\n",
      " |      complex.conjugate() -> complex\n",
      " |      \n",
      " |      Return the complex conjugate of its argument. (3-4j).conjugate() == 3+4j.\n",
      " |  \n",
      " |  ----------------------------------------------------------------------\n",
      " |  Static methods defined here:\n",
      " |  \n",
      " |  __new__(*args, **kwargs) from builtins.type\n",
      " |      Create and return a new object.  See help(type) for accurate signature.\n",
      " |  \n",
      " |  ----------------------------------------------------------------------\n",
      " |  Data descriptors defined here:\n",
      " |  \n",
      " |  imag\n",
      " |      the imaginary part of a complex number\n",
      " |  \n",
      " |  real\n",
      " |      the real part of a complex number\n",
      "\n",
      "None\n"
     ]
    }
   ],
   "source": [
    "print(help(complex))"
   ]
  },
  {
   "cell_type": "code",
   "execution_count": 7,
   "metadata": {},
   "outputs": [
    {
     "name": "stdout",
     "output_type": "stream",
     "text": [
      "enter a number : 1\n",
      "enter another number : -6\n",
      "(1-6j)\n",
      "(1+6j)\n"
     ]
    }
   ],
   "source": [
    "a = float(input(\"enter a number : \"))\n",
    "b = float(input(\"enter another number : \"))\n",
    "c = complex(a,b)\n",
    "print(c)\n",
    "print(c.conjugate())"
   ]
  },
  {
   "cell_type": "code",
   "execution_count": 3,
   "metadata": {},
   "outputs": [
    {
     "name": "stdout",
     "output_type": "stream",
     "text": [
      "10 + 20i\n",
      "20 + -30i\n"
     ]
    }
   ],
   "source": [
    "def print_complex(c):\n",
    "    print('{} + {}i'.format(c[0],c[1]))\n",
    "    \n",
    "c1 = (10,20)\n",
    "c2 = (20,-30)\n",
    "print_complex(c1)\n",
    "print_complex(c2)"
   ]
  },
  {
   "cell_type": "code",
   "execution_count": 7,
   "metadata": {},
   "outputs": [
    {
     "name": "stdout",
     "output_type": "stream",
     "text": [
      "10 + 15i\n",
      "15 - 20i\n"
     ]
    }
   ],
   "source": [
    "def print_complex(c):\n",
    "    print(\"{} {} {}i\".format(c[0],'+' if c[1] >= 0 else '-', abs(c[1])))\n",
    "    \n",
    "c1 = (10,15)\n",
    "c2 = (15,-20)\n",
    "print_complex(c1)\n",
    "print_complex(c2)"
   ]
  },
  {
   "cell_type": "code",
   "execution_count": 10,
   "metadata": {},
   "outputs": [
    {
     "name": "stdout",
     "output_type": "stream",
     "text": [
      "10 - 20i\n",
      "-10 - 20i\n",
      "1 + 2i\n",
      "-1 + 2i\n"
     ]
    }
   ],
   "source": [
    "def conjugate(c):\n",
    "    return (c[0], -c[1])\n",
    "\n",
    "def negative(c):\n",
    "    return (-c[0], -c[1])\n",
    "\n",
    "c1 = (10,20)\n",
    "c2 = (1,-2)\n",
    "\n",
    "print_complex(conjugate(c1))\n",
    "print_complex(negative(c1))\n",
    "print_complex(conjugate(c2))\n",
    "print_complex(negative(c2))"
   ]
  },
  {
   "cell_type": "code",
   "execution_count": 12,
   "metadata": {},
   "outputs": [
    {
     "name": "stdout",
     "output_type": "stream",
     "text": [
      "11 + 18i\n",
      "9 + 22i\n"
     ]
    }
   ],
   "source": [
    "def add(c1,c2):\n",
    "    return ((c1[0] + c2[0]),c1[1] + c2[1])\n",
    "\n",
    "def sub(c1,c2):\n",
    "    return ((c1[0] - c2[0]),c1[1] - c2[1])\n",
    "\n",
    "c1 = (10,20)\n",
    "c2 = (1,-2)\n",
    "print_complex(add(c1,c2))\n",
    "print_complex(sub(c1,c2))"
   ]
  },
  {
   "cell_type": "code",
   "execution_count": 13,
   "metadata": {},
   "outputs": [
    {
     "name": "stdout",
     "output_type": "stream",
     "text": [
      "50 + 0i\n"
     ]
    }
   ],
   "source": [
    "def mul(c1,c2):\n",
    "    r = c1[0]*c2[0] - c1[1]*c2[1]\n",
    "    i = c1[0]*c2[1] + c1[1]*c2[0]\n",
    "    return (r,i)\n",
    "\n",
    "c1 = (10,20)\n",
    "c2 = (1,-2)\n",
    "\n",
    "print_complex(mul(c1,c2))"
   ]
  },
  {
   "cell_type": "code",
   "execution_count": 14,
   "metadata": {},
   "outputs": [
    {
     "name": "stdout",
     "output_type": "stream",
     "text": [
      "1.0 + 0.0i\n"
     ]
    }
   ],
   "source": [
    "def div(c1,c2):\n",
    "    c2_conj = conjugate(c2)\n",
    "    mag = mul(c2,c2_conj)[0]\n",
    "    c_temp = mul(c2,c2_conj)\n",
    "    r = c_temp[0]/mag\n",
    "    i = c_temp[1]/mag\n",
    "    return (r,i)\n",
    "\n",
    "c1 = (10,20)\n",
    "c2 = (1,-2)\n",
    "print_complex(div(c1,c2))"
   ]
  }
 ],
 "metadata": {
  "kernelspec": {
   "display_name": "Python 3",
   "language": "python",
   "name": "python3"
  },
  "language_info": {
   "codemirror_mode": {
    "name": "ipython",
    "version": 3
   },
   "file_extension": ".py",
   "mimetype": "text/x-python",
   "name": "python",
   "nbconvert_exporter": "python",
   "pygments_lexer": "ipython3",
   "version": "3.7.4"
  }
 },
 "nbformat": 4,
 "nbformat_minor": 2
}
