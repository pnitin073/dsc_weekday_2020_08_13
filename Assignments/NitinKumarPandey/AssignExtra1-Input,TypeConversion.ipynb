{
 "cells": [
  {
   "cell_type": "code",
   "execution_count": 5,
   "metadata": {},
   "outputs": [
    {
     "name": "stdout",
     "output_type": "stream",
     "text": [
      "Enter temp in farenheight 98.6\n",
      "temp in centigrade is :  37.0\n"
     ]
    }
   ],
   "source": [
    "#Question 1\n",
    "a = float(input(\"Enter temp in farenheight \"))\n",
    "print(\"temp in centigrade is : \",(((a - 32)*5)/9))"
   ]
  },
  {
   "cell_type": "code",
   "execution_count": 7,
   "metadata": {},
   "outputs": [
    {
     "name": "stdout",
     "output_type": "stream",
     "text": [
      "Enter a number2\n",
      "square is  4.0 Cube is  8.0\n"
     ]
    }
   ],
   "source": [
    "#Question 2\n",
    "a = float(input(\"Enter a number\"))\n",
    "print(\"square is \",a**2,\"Cube is \",pow(a,3))"
   ]
  },
  {
   "cell_type": "code",
   "execution_count": 8,
   "metadata": {},
   "outputs": [
    {
     "name": "stdout",
     "output_type": "stream",
     "text": [
      "Enter the value of m : 2\n",
      "Enter the value of n : 3\n",
      "n2 + m2 is :  13.0\n"
     ]
    }
   ],
   "source": [
    "# Question 3\n",
    "m = float(input(\"Enter the value of m : \"))\n",
    "n = float(input(\"Enter the value of n : \"))\n",
    "print(\"n2 + m2 is : \", n**2 + m**2)"
   ]
  },
  {
   "cell_type": "code",
   "execution_count": 9,
   "metadata": {},
   "outputs": [
    {
     "name": "stdout",
     "output_type": "stream",
     "text": [
      "Enter the value of m : 2\n",
      "Enter the value of n : 3\n",
      "by m**n  8.0 by pow(m,n) 8.0\n"
     ]
    }
   ],
   "source": [
    "# Question 4\n",
    "m = float(input(\"Enter the value of m : \"))\n",
    "n = float(input(\"Enter the value of n : \"))\n",
    "print(\"by m**n \", m**n, \"by pow(m,n)\", pow(m,n))"
   ]
  },
  {
   "cell_type": "code",
   "execution_count": null,
   "metadata": {},
   "outputs": [],
   "source": [
    "#Question 5\n",
    "#already don in some other assignmentb"
   ]
  },
  {
   "cell_type": "code",
   "execution_count": null,
   "metadata": {},
   "outputs": [],
   "source": [
    "#Question 6\n",
    "#Already done in some other assignment"
   ]
  },
  {
   "cell_type": "code",
   "execution_count": 10,
   "metadata": {},
   "outputs": [
    {
     "name": "stdout",
     "output_type": "stream",
     "text": [
      "Enter N: 5\n",
      "Sum is  15\n"
     ]
    }
   ],
   "source": [
    "#Question 7\n",
    "a = int(input(\"Enter N: \"))\n",
    "b = a\n",
    "i = 0\n",
    "while(b >= 1):\n",
    "    i = i + b\n",
    "    b = b - 1\n",
    "print(\"Sum is \", i)"
   ]
  },
  {
   "cell_type": "code",
   "execution_count": 12,
   "metadata": {},
   "outputs": [
    {
     "name": "stdout",
     "output_type": "stream",
     "text": [
      "Enter a number : 1\n",
      "Enter another number : 2\n",
      "Enter a number3\n",
      "Enter another number 4\n",
      "2 1 4 3\n"
     ]
    }
   ],
   "source": [
    "#Question 8\n",
    "a = int(input(\"Enter a number : \"))\n",
    "b = int(input(\"Enter another number : \"))\n",
    "t = a \n",
    "a = b\n",
    "b = t\n",
    "c = int(input(\"Enter a number\"))\n",
    "d = int(input(\"Enter another number \"))\n",
    "c , d = d , c\n",
    "print(a, b, c, d)"
   ]
  },
  {
   "cell_type": "code",
   "execution_count": 16,
   "metadata": {},
   "outputs": [
    {
     "name": "stdout",
     "output_type": "stream",
     "text": [
      "9\n",
      "10\n",
      "11\n",
      "12\n",
      "13\n",
      "8\n"
     ]
    }
   ],
   "source": [
    "#Question 9\n",
    "#print(ord(''))\n",
    "print(ord('\\t'))\n",
    "print(ord('\\n'))\n",
    "print(ord('\\v'))\n",
    "print(ord('\\f'))\n",
    "print(ord('\\r'))\n",
    "print(ord('\\b'))"
   ]
  },
  {
   "cell_type": "code",
   "execution_count": 3,
   "metadata": {},
   "outputs": [
    {
     "name": "stdout",
     "output_type": "stream",
     "text": [
      "Enter the character : as\n",
      "97\n"
     ]
    }
   ],
   "source": [
    "# Questin 10\n",
    "a = input(\"Enter the character : \")\n",
    "print(ord(a[0]))"
   ]
  },
  {
   "cell_type": "code",
   "execution_count": 7,
   "metadata": {},
   "outputs": [
    {
     "name": "stdout",
     "output_type": "stream",
     "text": [
      "Enter the area of circle : 84\n",
      "radius is  5.172194153034851 circumference is  32.481379281058864\n"
     ]
    }
   ],
   "source": [
    "# Question 11\n",
    "import math\n",
    "a = float(input(\"Enter the area of circle : \"))\n",
    "radius = math.sqrt(a / 3.14)\n",
    "circumference = 2*3.14*radius\n",
    "print(\"radius is \", radius,\"circumference is \",circumference)"
   ]
  },
  {
   "cell_type": "code",
   "execution_count": null,
   "metadata": {},
   "outputs": [],
   "source": [
    "# Question 12 \n",
    "# Repeated question"
   ]
  }
 ],
 "metadata": {
  "kernelspec": {
   "display_name": "Python 3",
   "language": "python",
   "name": "python3"
  },
  "language_info": {
   "codemirror_mode": {
    "name": "ipython",
    "version": 3
   },
   "file_extension": ".py",
   "mimetype": "text/x-python",
   "name": "python",
   "nbconvert_exporter": "python",
   "pygments_lexer": "ipython3",
   "version": "3.7.4"
  }
 },
 "nbformat": 4,
 "nbformat_minor": 2
}
