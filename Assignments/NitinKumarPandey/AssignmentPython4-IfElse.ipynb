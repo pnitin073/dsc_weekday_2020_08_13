{
 "cells": [
  {
   "cell_type": "markdown",
   "metadata": {},
   "source": [
    "Assignment 04"
   ]
  },
  {
   "cell_type": "code",
   "execution_count": 1,
   "metadata": {},
   "outputs": [
    {
     "name": "stdout",
     "output_type": "stream",
     "text": [
      "Enter a number : 1\n",
      "Enter another number : 1\n",
      "1 is divisible by  1\n"
     ]
    }
   ],
   "source": [
    "#Question 1\n",
    "a = int(input(\"Enter a number : \"))\n",
    "b = int(input(\"Enter another number : \"))\n",
    "if (max(a,b) % min(a,b) == 0):\n",
    "    print(max(a,b), 'is divisible by ', min(a,b))\n",
    "else: \n",
    "    print(max(a,b), 'is not divisible by ', min(a,b))"
   ]
  },
  {
   "cell_type": "code",
   "execution_count": null,
   "metadata": {},
   "outputs": [],
   "source": []
  },
  {
   "cell_type": "code",
   "execution_count": 2,
   "metadata": {},
   "outputs": [
    {
     "name": "stdout",
     "output_type": "stream",
     "text": [
      "enter the string lk\n",
      "['__add__', '__class__', '__contains__', '__delattr__', '__dir__', '__doc__', '__eq__', '__format__', '__ge__', '__getattribute__', '__getitem__', '__getnewargs__', '__gt__', '__hash__', '__init__', '__init_subclass__', '__iter__', '__le__', '__len__', '__lt__', '__mod__', '__mul__', '__ne__', '__new__', '__reduce__', '__reduce_ex__', '__repr__', '__rmod__', '__rmul__', '__setattr__', '__sizeof__', '__str__', '__subclasshook__', 'capitalize', 'casefold', 'center', 'count', 'encode', 'endswith', 'expandtabs', 'find', 'format', 'format_map', 'index', 'isalnum', 'isalpha', 'isascii', 'isdecimal', 'isdigit', 'isidentifier', 'islower', 'isnumeric', 'isprintable', 'isspace', 'istitle', 'isupper', 'join', 'ljust', 'lower', 'lstrip', 'maketrans', 'partition', 'replace', 'rfind', 'rindex', 'rjust', 'rpartition', 'rsplit', 'rstrip', 'split', 'splitlines', 'startswith', 'strip', 'swapcase', 'title', 'translate', 'upper', 'zfill']\n",
      "its not a pallindrome\n"
     ]
    }
   ],
   "source": [
    "#Question 2\n",
    "s1 = input(\"enter the string \")\n",
    "print(dir(s1))\n",
    "if(s1.upper() == s1[::-1].upper()):\n",
    "    print(\"its a pallindrome\")\n",
    "else: \n",
    "    print(\"its not a pallindrome\")\n"
   ]
  },
  {
   "cell_type": "code",
   "execution_count": 3,
   "metadata": {},
   "outputs": [
    {
     "name": "stdout",
     "output_type": "stream",
     "text": [
      "Enter a side of a triangle : 5\n",
      "Enter second side of the triangle : 5\n",
      "Enter third side of the triangle : 5\n",
      "equilateral\n"
     ]
    }
   ],
   "source": [
    "#Question 3\n",
    "a = float(input(\"Enter a side of a triangle : \"))\n",
    "b = float(input(\"Enter second side of the triangle : \"))\n",
    "c = float(input(\"Enter third side of the triangle : \"))\n",
    "if(a == b and b == c):\n",
    "    print(\"equilateral\")\n",
    "elif(a == b or b == c or c == a):\n",
    "    print(\"bilateral\")\n",
    "else:\n",
    "    print(\"no lateral\")\n"
   ]
  },
  {
   "cell_type": "code",
   "execution_count": 4,
   "metadata": {},
   "outputs": [
    {
     "name": "stdout",
     "output_type": "stream",
     "text": [
      "Please enter a number : 2\n",
      "even\n"
     ]
    }
   ],
   "source": [
    "# Question 3\n",
    "a = int(input(\"Please enter a number : \"))\n",
    "if(a%2 == 0):\n",
    "    print(\"even\")\n",
    "else:\n",
    "    print(\"odd\")"
   ]
  },
  {
   "cell_type": "code",
   "execution_count": 5,
   "metadata": {},
   "outputs": [
    {
     "name": "stdout",
     "output_type": "stream",
     "text": [
      "please enter your age : 58\n",
      "senior citizen\n"
     ]
    }
   ],
   "source": [
    "# Question 5\n",
    "age = int(input(\"please enter your age : \"))\n",
    "if(age in range(0,13)):\n",
    "    print(\"child\")\n",
    "elif(age in range(13,19)):\n",
    "    print(\"Teen\")\n",
    "elif(age in range(19,51)):\n",
    "    print(\"Adult\")\n",
    "elif(age in range(51,101)):\n",
    "    print(\"senior citizen\")\n",
    "elif(age > 100):\n",
    "    print(\"Congratulations\")\n",
    "else:\n",
    "    print(\"please enter a valid age \")"
   ]
  },
  {
   "cell_type": "code",
   "execution_count": 6,
   "metadata": {},
   "outputs": [
    {
     "name": "stdout",
     "output_type": "stream",
     "text": [
      "please enter the year : 2002\n",
      "its not aleap year\n"
     ]
    }
   ],
   "source": [
    "#Question 6\n",
    "a = int(input(\"please enter the year : \"))\n",
    "if(a < 1000 or a < 0):\n",
    "    print(\"please enter a valid Year \")\n",
    "elif(a % 4 == 0):\n",
    "    print(\"its a leap Year\")\n",
    "else:\n",
    "    print(\"its not aleap year\")"
   ]
  },
  {
   "cell_type": "code",
   "execution_count": 7,
   "metadata": {},
   "outputs": [
    {
     "name": "stdout",
     "output_type": "stream",
     "text": [
      "please enter a string : lkjhg\n",
      "LKJHG\n"
     ]
    }
   ],
   "source": [
    "#Question 7 \n",
    "s1 = input(\"please enter a string : \")\n",
    "#print(dir(s1))\n",
    "if(not s1.isalpha()):\n",
    "    print(\"please enter a alphabetic string \")\n",
    "elif(len(s1)%2 == 0):\n",
    "    print(s1.lower())\n",
    "else: \n",
    "    print(s1.upper())"
   ]
  },
  {
   "cell_type": "code",
   "execution_count": 8,
   "metadata": {},
   "outputs": [
    {
     "name": "stdout",
     "output_type": "stream",
     "text": [
      "please enter a string : kjhegg\n",
      "its non veg\n"
     ]
    }
   ],
   "source": [
    "#Question 8\n",
    "s1 = input(\"please enter a string : \")\n",
    "if('egg' in s1 or Egg in s1 or EGG in s1 ):\n",
    "    print(\"its non veg\")\n",
    "else:\n",
    "    print(\"its veg\")"
   ]
  },
  {
   "cell_type": "code",
   "execution_count": 9,
   "metadata": {},
   "outputs": [
    {
     "name": "stdout",
     "output_type": "stream",
     "text": [
      "true\n",
      "true\n"
     ]
    }
   ],
   "source": [
    "#Question 9\n",
    "if not 1:\n",
    "    print(\"false\")\n",
    "else:\n",
    "    print(\"true\")\n",
    "if 1:\n",
    "    print(\"true\")\n",
    "else: \n",
    "    print(\"false\")"
   ]
  },
  {
   "cell_type": "code",
   "execution_count": 10,
   "metadata": {},
   "outputs": [
    {
     "name": "stdout",
     "output_type": "stream",
     "text": [
      "weared//////\n",
      "[4, 3, 2, 1]\n"
     ]
    }
   ],
   "source": [
    "#\n",
    "if('a' > 'A'):\n",
    "    print(\"weared//////\")\n",
    "else:\n",
    "    print(\"makes sense   \")\n",
    "a = [1,2,3,4]\n",
    "if 1 > 1 :\n",
    "    a = a[::-1]\n",
    "else:\n",
    "    a = a[-1::-1]\n",
    "    \n",
    "print(a)"
   ]
  },
  {
   "cell_type": "code",
   "execution_count": 16,
   "metadata": {},
   "outputs": [
    {
     "name": "stdout",
     "output_type": "stream",
     "text": [
      "Pleas enter the marks of first subject : 59\n",
      "Pleas enter the marks of second subject : 59\n",
      "Pleas enter the marks of third subject : 59\n",
      "Pleas enter the marks of fourth subject : 59\n",
      "Pleas enter the marks of fifth subject : 59\n",
      "Grade F\n"
     ]
    }
   ],
   "source": [
    "#Question 11\n",
    "sub1 = float(input(\"Pleas enter the marks of first subject : \"))\n",
    "sub2 = float(input(\"Pleas enter the marks of second subject : \"))\n",
    "sub3 = float(input(\"Pleas enter the marks of third subject : \"))\n",
    "sub4 = float(input(\"Pleas enter the marks of fourth subject : \"))\n",
    "sub5 = float(input(\"Pleas enter the marks of fifth subject : \"))\n",
    "total = sub1 + sub2 + sub3 + sub4 + sub5\n",
    "persentage = int(total/5)\n",
    "if(persentage in range(0,60)):\n",
    "    print(\"Grade F\")\n",
    "elif(persentage in range(60,80)):\n",
    "    print(\"Grade C\")\n",
    "elif(persentage in range(80,90)):\n",
    "    print(\"Grade B\")\n",
    "elif(persentage in range(90,101)):\n",
    "    print(\"Grade A\")\n",
    "else:\n",
    "    print(\"looks like yu did not enter valid marks\")"
   ]
  },
  {
   "cell_type": "code",
   "execution_count": 26,
   "metadata": {},
   "outputs": [
    {
     "name": "stdout",
     "output_type": "stream",
     "text": [
      " Please enter you r age : 65\n",
      "Please ente yur monthly salary : 1200000\n",
      "Payable tax is :  71500.0\n"
     ]
    }
   ],
   "source": [
    "#Question 11\n",
    "age = int(input(\" Please enter you r age : \"))\n",
    "salary = float(input(\"Please ente yur monthly salary : \"))\n",
    "if (age < 0):\n",
    "    print(\"please enter a valid age \")\n",
    "elif(age < 60):\n",
    "    if(salary in range(0,250001)):\n",
    "        print(\"payable tax is : \",0)\n",
    "    elif(salary in range(250001,500001)):\n",
    "        print(\"payable tax is : \",((( salary - 250000 ) * 5 ) / 100 ))\n",
    "    elif(salary in range(500001,1000001)):\n",
    "        print(\"Payable tax is : \",((((salary - 500000 ) * 10 ) / 100 ) + 12500 ))\n",
    "    elif(salary > 1000000):\n",
    "        print(\"Payable tax is : \",((((salary - 1000000 ) * 15 ) / 100 ) + 62500 ))\n",
    "    else:\n",
    "        print(\"please enter a valid salary \")\n",
    "        \n",
    "else:\n",
    "    if(salary in range(0,250001)):\n",
    "        print(\"payable tax is : \",0)\n",
    "    elif(salary in range(250001,500001)):\n",
    "        print(\"payable tax is : \",((( salary - 250000 ) * 3 ) / 100 ))\n",
    "    elif(salary in range(500001,1000001)):\n",
    "        print(\"Payable tax is : \",((((salary - 500000 ) * 8 ) / 100 ) + 7500 ))\n",
    "    elif(salary > 1000000):\n",
    "        print(\"Payable tax is : \",((((salary - 1000000 ) * 12 ) / 100 ) + 47500 ))\n",
    "    else:\n",
    "        print(\"please enter a valid salary \")\n"
   ]
  },
  {
   "cell_type": "code",
   "execution_count": 30,
   "metadata": {},
   "outputs": [
    {
     "name": "stdout",
     "output_type": "stream",
     "text": [
      "10\n",
      "10\n",
      "10\n",
      "No\n"
     ]
    }
   ],
   "source": [
    "#Question 12\n",
    "print( 20 if not 1 == 1 else 10) # guess 10\n",
    "print( 30 if not 1 == 1 else 20 if 'a' < 'A' else 10) # guess 10\n",
    "print( 40 if not 1 == 1 else 30 if 'a' < 'A' else 20 if '' else 10 ) # guess 10\n",
    "print( 'No' if not 1 == 1 else ('No' if 'a' > 'A' else ('OMG' if 'oh!!' else 'No'))) # guess No"
   ]
  },
  {
   "cell_type": "code",
   "execution_count": 34,
   "metadata": {},
   "outputs": [
    {
     "name": "stdout",
     "output_type": "stream",
     "text": [
      "Enter the wait in Kg : 58\n",
      "Enter the height in cm : 162\n",
      "You r normal wait \n"
     ]
    }
   ],
   "source": [
    "#Question 13\n",
    "import math\n",
    "def bmi(w,h):\n",
    "    return float(w/(h/100)**2)\n",
    "\n",
    "w = abs(float(input(\"Enter the wait in Kg : \")))\n",
    "h = abs(float(input(\"Enter the height in cm : \")))\n",
    "b = bmi(w,h)\n",
    "if b > 0 and b < 15.0:\n",
    "    print(\"you are very seaverly under wait \")\n",
    "elif b >= 15.0 and b < 16.0:\n",
    "    print(\"you are seaverly underwait \")\n",
    "elif b >= 16.0 and b < 18.50:\n",
    "    print(\"You r under wait \")\n",
    "elif b >= 18.50 and b < 30.0:\n",
    "    print(\"You r normal wait \")\n",
    "elif b >= 30.0 and b < 35.0:\n",
    "    print(\"moderatelly obbses\")\n",
    "elif b >= 35.0 and b < 40.0:\n",
    "    print(\"seaverly obbeses\")\n",
    "else:\n",
    "    print(\"very seaverly obbeses\")\n",
    "    \n"
   ]
  },
  {
   "cell_type": "code",
   "execution_count": 36,
   "metadata": {},
   "outputs": [
    {
     "name": "stdout",
     "output_type": "stream",
     "text": [
      "enter the age of first person : 12\n",
      "enter the age of second person : 12\n",
      "enter the age of third person : 12\n",
      "all are same\n"
     ]
    }
   ],
   "source": [
    "#Question 14\n",
    "\n",
    "age1 = float(input(\"enter the age of first person : \"))\n",
    "age2 = float(input(\"enter the age of second person : \"))\n",
    "age3 = float(input(\"enter the age of third person : \"))\n",
    "\n",
    "if(max(age1, age2, age3) == age1 and (age1 != age2 or age2 != age3)):\n",
    "    print(\"first person is oldest\")\n",
    "elif(max(age1, age2, age3) == age2 and (age1 != age2 or age2 != age3)):\n",
    "    print(\"second person is oldest\")\n",
    "elif(max(age1, age2, age3) == age3 and (age1 != age2 or age2 != age3)):\n",
    "    print(\"third person is oldest\")\n",
    "elif(min(age1, age2, age3) == age1 and (age1 != age2 or age2 != age3)):\n",
    "    print(\"first person is youngest\")\n",
    "elif(min(age1, age2, age3) == age2 and (age1 != age2 or age2 != age3)):\n",
    "    print(\"second person is youngest\")\n",
    "elif(min(age1, age2, age3) == age3 and (age1 != age2 or age2 != age3)):\n",
    "    print(\"third person is youngest\")\n",
    "else:\n",
    "    print(\"all are same\")\n"
   ]
  },
  {
   "cell_type": "code",
   "execution_count": 40,
   "metadata": {},
   "outputs": [
    {
     "name": "stdout",
     "output_type": "stream",
     "text": [
      "enter the age of first person : 8\n",
      "enter the age of second person : 8\n",
      "enter the age of third person : 12\n",
      "first and second persons are of same age\n",
      "third person is oldest one\n"
     ]
    }
   ],
   "source": [
    "# Second approach of question 14\n",
    "\n",
    "first = float(input(\"enter the age of first person : \"))\n",
    "second = float(input(\"enter the age of second person : \"))\n",
    "third = float(input(\"enter the age of third person : \"))\n",
    "\n",
    "if(first == second and second == third):\n",
    "    print(\"all persons are of same age \")\n",
    "elif(first == second):\n",
    "    print(\"first and second persons are of same age\")\n",
    "    if(first > third):\n",
    "        print(\"first and second persons are teh older that third\")\n",
    "    else:\n",
    "        print(\"third person is oldest one\")\n",
    "elif(first == third):\n",
    "    print(\"first and third persone are of same age\")\n",
    "    if(first > second):\n",
    "        print(\"first and third persons are older that second\")\n",
    "    else:\n",
    "        print(\"second person is the odest one\")\n",
    "elif(second == third):\n",
    "    print(\"third and second persons are of same age\")\n",
    "    if(third > first):\n",
    "        print(\"second and third persons are older that first \")\n",
    "    else:\n",
    "        print(\"first person is the oldest one\")\n",
    "else:\n",
    "    print(\"looks like wrong input\")\n"
   ]
  },
  {
   "cell_type": "code",
   "execution_count": 42,
   "metadata": {},
   "outputs": [
    {
     "name": "stdout",
     "output_type": "stream",
     "text": [
      "please enter the number :35\n",
      "Yes\n"
     ]
    }
   ],
   "source": [
    "#Question 15\n",
    "a = int(input(\"please enter the number :\"))\n",
    "print('Yes' if a % 5 == 0 and a % 7 == 0 else 'No' )"
   ]
  }
 ],
 "metadata": {
  "kernelspec": {
   "display_name": "Python 3",
   "language": "python",
   "name": "python3"
  },
  "language_info": {
   "codemirror_mode": {
    "name": "ipython",
    "version": 3
   },
   "file_extension": ".py",
   "mimetype": "text/x-python",
   "name": "python",
   "nbconvert_exporter": "python",
   "pygments_lexer": "ipython3",
   "version": "3.7.4"
  }
 },
 "nbformat": 4,
 "nbformat_minor": 2
}
